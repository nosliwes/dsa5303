{
 "cells": [
  {
   "cell_type": "code",
   "execution_count": 12,
   "metadata": {},
   "outputs": [],
   "source": [
    "import pandas as pd\n",
    "import numpy as np\n",
    "from random import Random\n",
    "import matplotlib.pyplot as plt\n",
    "from progressbar import ProgressBar\n",
    "\n",
    "seed = 4621\n",
    "myPRNG = Random(seed)\n",
    "\n",
    "# create a continuous valued chromosome \n",
    "def createChromosome(d, lBnd, uBnd):   \n",
    "    x = []\n",
    "    for i in range(d):\n",
    "        x.append(myPRNG.uniform(lBnd,uBnd))   #creating a randomly located solution\n",
    "    \n",
    "    # normalize values for Markowitz constraint\n",
    "    for i in range(len(x)):\n",
    "        x[i] = x[i] / sum(x)\n",
    "      \n",
    "    return x\n",
    "\n",
    "# create initial population\n",
    "def initializePopulation(): \n",
    "    population = []\n",
    "    populationFitness = []\n",
    "    \n",
    "    print(\"Initializing Population\")\n",
    "    pbar = ProgressBar()\n",
    "    for i in pbar(range(populationSize)):\n",
    "        population.append(createChromosome(R['Symbol'].count(),0,1))\n",
    "        populationFitness.append(evaluate(population[i]))\n",
    "        \n",
    "    tempZip = zip(population, populationFitness)\n",
    "    popVals = sorted(tempZip, key=lambda tempZip: tempZip[1])\n",
    "    \n",
    "    return popVals   \n",
    "\n",
    "# helper method to calculate covariance used in sharpe ratio\n",
    "def covariance(x, y):\n",
    "    symbol_x = df['Symbol'].unique()[x]\n",
    "    symbol_y = df['Symbol'].unique()[y]   \n",
    "    val_x = df[df['Symbol']==symbol_x]['Return'].values\n",
    "    val_y = df[df['Symbol']==symbol_y]['Return'].values\n",
    "    cov = (val_x * val_y).mean() - (val_x.mean() * val_y.mean())\n",
    "    return cov\n",
    "\n",
    "# function to evaluate the Sharpe ratio of the portfolio\n",
    "def evaluate(w):     \n",
    "    \n",
    "    Rp = 0 # portfolio return \n",
    "    Rf = 1.0 # risk free return\n",
    "    sigma = 0 # portfolio variance\n",
    "    \n",
    "     # calculate portfolio return\n",
    "    for i in range(len(w)):\n",
    "        Rp = Rp + R['Return'].iloc[i] * w[i]\n",
    "        \n",
    "    # calculate portfolio variance\n",
    "    for i in range(len(w)):\n",
    "        for j in range(len(w)):\n",
    "            sigma = sigma + (covariance(i,j) * w[i] * w[j])\n",
    "            \n",
    "    sharpe = (Rp - Rf) / sigma\n",
    "    \n",
    "    frontierData.append((Rp,sigma,sharpe))\n",
    "    \n",
    "    return sharpe   \n",
    "\n",
    "# performs tournament selection; k chromosomes are selected (with repeats allowed) and the best advances to the mating pool\n",
    "# function returns the mating pool with size equal to the initial population\n",
    "def tournamentSelection(pop,k):\n",
    "    \n",
    "    #randomly select k chromosomes; the best joins the mating pool\n",
    "    matingPool = []\n",
    "    \n",
    "    print(\"Tournament Selection\")\n",
    "    while len(matingPool)<populationSize:\n",
    "        \n",
    "        ids = [myPRNG.randint(0,populationSize-1) for i in range(k)]\n",
    "        competingIndividuals = [pop[i][1] for i in ids]\n",
    "        bestID=ids[competingIndividuals.index(max(competingIndividuals))]\n",
    "        matingPool.append(pop[bestID][0])\n",
    "\n",
    "    return matingPool\n",
    "\n",
    "def breeding(matingPool):\n",
    "    children = []\n",
    "    childrenFitness = []\n",
    "    \n",
    "    print(\"Breeding Offspring\")\n",
    "    pbar = ProgressBar()\n",
    "    for i in pbar(range(0,populationSize-1,2)):\n",
    "\n",
    "        child1,child2=crossover(matingPool[i],matingPool[i+1])\n",
    "        \n",
    "        child1=mutate(child1)\n",
    "        child2=mutate(child2)\n",
    "        \n",
    "        # normalize values for Markowitz constraint\n",
    "        for i in range(len(child1)):\n",
    "            child1[i] = child1[i] / sum(child1)\n",
    "            child2[i] = child2[i] / sum(child2)\n",
    "        \n",
    "        children.append(child1)\n",
    "        children.append(child2)\n",
    "        \n",
    "        childrenFitness.append(evaluate(child1))\n",
    "        childrenFitness.append(evaluate(child2))\n",
    "        \n",
    "    tempZip = zip(children, childrenFitness)\n",
    "    popVals = sorted(tempZip, key=lambda tempZip: tempZip[1])\n",
    "    \n",
    "    return popVals\n",
    "\n",
    "# implement a linear crossover\n",
    "def crossover(x1,x2):\n",
    "    # randomly generate probability of crossover\n",
    "    probability = myPRNG.uniform(0, 1)\n",
    "      \n",
    "    if probability <= crossOverRate: \n",
    "\n",
    "        #choose the crossover point so that at least 1 element of parent is copied\n",
    "        crossOverPt = myPRNG.randint(1,len(x1)-1) \n",
    "\n",
    "        beta = myPRNG.random()  #random number between 0 and 1\n",
    "\n",
    "        #create the linear combination of the solutions\n",
    "        new1 = list(np.array(x1) - beta*(np.array(x1)-np.array(x2))) \n",
    "        new2 = list(np.array(x2) + beta*(np.array(x1)-np.array(x2)))\n",
    "\n",
    "        #perfrom the crossover between the original solutions \"x1\" and \"x2\" and the \"new1\" and \"new2\" solutions\n",
    "        if crossOverPt < len(x1)/2:    \n",
    "            offspring1 = x1[0:crossOverPt] + new1[crossOverPt:len(x1)]\n",
    "            offspring2 = x2[0:crossOverPt] + new2[crossOverPt:len(x1)]\n",
    "        else:\n",
    "            offspring1 = new1[0:crossOverPt] + x1[crossOverPt:len(x1)]\n",
    "            offspring2 = new2[0:crossOverPt] + x2[crossOverPt:len(x1)]        \n",
    "    else:\n",
    "        offspring1 = x1\n",
    "        offspring2 = x2\n",
    "      \n",
    "    return offspring1, offspring2\n",
    "\n",
    "# mutate function \n",
    "def mutate(x):\n",
    "    # randomly generate probability of mutation\n",
    "    probability = myPRNG.uniform(0, 1)\n",
    "    \n",
    "    # mutate if less than mutationRate\n",
    "    if probability <= mutationRate:\n",
    "        # random position to mutate\n",
    "        index = myPRNG.randint(0, len(x)-1)\n",
    "\n",
    "        # solution feasbile flag (0 infeasible, 1 feasible)\n",
    "        flag = 0 \n",
    "\n",
    "        # loop until feasible mutation found\n",
    "        while flag == 0:\n",
    "            x[index] = myPRNG.uniform(0, 1)\n",
    "            if (evaluate(x) > 0):\n",
    "                flag = 1\n",
    "    return x\n",
    "\n",
    "# insertion step using elitism strategy\n",
    "def insert(pop,kids):\n",
    "    \n",
    "    # sort parents for elitism strategy\n",
    "    popVals = sorted(pop, key=lambda pop: pop[1])\n",
    "    \n",
    "    # sort kids for elistim strategy\n",
    "    kidVals = sorted(kids, key=lambda kids: kids[1])\n",
    "   \n",
    "    # combine top parents with top kids for next generation\n",
    "    population = popVals[:elitismCount] + kidVals[:(populationSize-elitismCount)]\n",
    "    \n",
    "    return population \n",
    "\n",
    "# display fitness of population\n",
    "def summaryFitness(pop):\n",
    "    a=np.array(list(zip(*pop))[1])\n",
    "    return np.max(a), np.mean(a), np.var(a)\n",
    "\n",
    "# display best solution\n",
    "def bestSolutionInPopulation(pop):\n",
    "    print (\"Best Portfolio: \" , pop[len(population)-1])"
   ]
  },
  {
   "cell_type": "code",
   "execution_count": 13,
   "metadata": {},
   "outputs": [
    {
     "name": "stderr",
     "output_type": "stream",
     "text": [
      "\r",
      "N/A% (0 of 50) |                         | Elapsed Time: 0:00:00 ETA:  --:--:--"
     ]
    },
    {
     "name": "stdout",
     "output_type": "stream",
     "text": [
      "Population Size: 50\n",
      "Generations: 10\n",
      "CrossOverRate: 0.8\n",
      "MutationRate 0.2\n",
      "Initializing Population\n"
     ]
    },
    {
     "name": "stderr",
     "output_type": "stream",
     "text": [
      "100% (50 of 50) |########################| Elapsed Time: 0:00:31 Time:  0:00:31\n",
      "N/A% (0 of 25) |                         | Elapsed Time: 0:00:00 ETA:  --:--:--"
     ]
    },
    {
     "name": "stdout",
     "output_type": "stream",
     "text": [
      "Generation:  0\n",
      "Tournament Selection\n",
      "Breeding Offspring\n"
     ]
    },
    {
     "name": "stderr",
     "output_type": "stream",
     "text": [
      "100% (25 of 25) |########################| Elapsed Time: 0:00:36 Time:  0:00:36\n",
      "N/A% (0 of 25) |                         | Elapsed Time: 0:00:00 ETA:  --:--:--"
     ]
    },
    {
     "name": "stdout",
     "output_type": "stream",
     "text": [
      "Max:  0.5326913064056937 Mean:  0.3771855260355099 Variance 0.006976914804101305\n",
      "Generation:  1\n",
      "Tournament Selection\n",
      "Breeding Offspring\n"
     ]
    },
    {
     "name": "stderr",
     "output_type": "stream",
     "text": [
      "100% (25 of 25) |########################| Elapsed Time: 0:00:37 Time:  0:00:37\n",
      "N/A% (0 of 25) |                         | Elapsed Time: 0:00:00 ETA:  --:--:--"
     ]
    },
    {
     "name": "stdout",
     "output_type": "stream",
     "text": [
      "Max:  0.7058321702341059 Mean:  0.5031139402991982 Variance 0.013572534113694587\n",
      "Generation:  2\n",
      "Tournament Selection\n",
      "Breeding Offspring\n"
     ]
    },
    {
     "name": "stderr",
     "output_type": "stream",
     "text": [
      "100% (25 of 25) |########################| Elapsed Time: 0:00:36 Time:  0:00:36\n",
      "N/A% (0 of 25) |                         | Elapsed Time: 0:00:00 ETA:  --:--:--"
     ]
    },
    {
     "name": "stdout",
     "output_type": "stream",
     "text": [
      "Max:  0.9119130666184077 Mean:  0.582757490994792 Variance 0.030093031422985028\n",
      "Generation:  3\n",
      "Tournament Selection\n",
      "Breeding Offspring\n"
     ]
    },
    {
     "name": "stderr",
     "output_type": "stream",
     "text": [
      "100% (25 of 25) |########################| Elapsed Time: 0:00:37 Time:  0:00:37\n",
      "N/A% (0 of 25) |                         | Elapsed Time: 0:00:00 ETA:  --:--:--"
     ]
    },
    {
     "name": "stdout",
     "output_type": "stream",
     "text": [
      "Max:  0.94597749434956 Mean:  0.6665746692390642 Variance 0.02516267214542598\n",
      "Generation:  4\n",
      "Tournament Selection\n",
      "Breeding Offspring\n"
     ]
    },
    {
     "name": "stderr",
     "output_type": "stream",
     "text": [
      "100% (25 of 25) |########################| Elapsed Time: 0:00:37 Time:  0:00:37\n",
      "N/A% (0 of 25) |                         | Elapsed Time: 0:00:00 ETA:  --:--:--"
     ]
    },
    {
     "name": "stdout",
     "output_type": "stream",
     "text": [
      "Max:  0.9495256570129548 Mean:  0.6903590402365718 Variance 0.03609437516777174\n",
      "Generation:  5\n",
      "Tournament Selection\n",
      "Breeding Offspring\n"
     ]
    },
    {
     "name": "stderr",
     "output_type": "stream",
     "text": [
      "100% (25 of 25) |########################| Elapsed Time: 0:00:38 Time:  0:00:38\n",
      "N/A% (0 of 25) |                         | Elapsed Time: 0:00:00 ETA:  --:--:--"
     ]
    },
    {
     "name": "stdout",
     "output_type": "stream",
     "text": [
      "Max:  1.5015036909968582 Mean:  0.7988504845027097 Variance 0.059789393487847925\n",
      "Generation:  6\n",
      "Tournament Selection\n",
      "Breeding Offspring\n"
     ]
    },
    {
     "name": "stderr",
     "output_type": "stream",
     "text": [
      "100% (25 of 25) |########################| Elapsed Time: 0:00:41 Time:  0:00:41\n",
      "N/A% (0 of 25) |                         | Elapsed Time: 0:00:00 ETA:  --:--:--"
     ]
    },
    {
     "name": "stdout",
     "output_type": "stream",
     "text": [
      "Max:  1.6001636380123057 Mean:  0.850415995075152 Variance 0.11933108557106309\n",
      "Generation:  7\n",
      "Tournament Selection\n",
      "Breeding Offspring\n"
     ]
    },
    {
     "name": "stderr",
     "output_type": "stream",
     "text": [
      "100% (25 of 25) |########################| Elapsed Time: 0:00:34 Time:  0:00:34\n",
      "N/A% (0 of 25) |                         | Elapsed Time: 0:00:00 ETA:  --:--:--"
     ]
    },
    {
     "name": "stdout",
     "output_type": "stream",
     "text": [
      "Max:  2.2756043137560242 Mean:  1.1490752300036027 Variance 0.11734228135585538\n",
      "Generation:  8\n",
      "Tournament Selection\n",
      "Breeding Offspring\n"
     ]
    },
    {
     "name": "stderr",
     "output_type": "stream",
     "text": [
      "100% (25 of 25) |########################| Elapsed Time: 0:00:35 Time:  0:00:35\n",
      "N/A% (0 of 25) |                         | Elapsed Time: 0:00:00 ETA:  --:--:--"
     ]
    },
    {
     "name": "stdout",
     "output_type": "stream",
     "text": [
      "Max:  2.3880867566408854 Mean:  1.3749903793841183 Variance 0.17253609455559996\n",
      "Generation:  9\n",
      "Tournament Selection\n",
      "Breeding Offspring\n"
     ]
    },
    {
     "name": "stderr",
     "output_type": "stream",
     "text": [
      "100% (25 of 25) |########################| Elapsed Time: 0:00:37 Time:  0:00:37\n"
     ]
    },
    {
     "name": "stdout",
     "output_type": "stream",
     "text": [
      "Max:  2.883180471525631 Mean:  1.581895419177344 Variance 0.430702593310928\n",
      "Best Portfolio:  ([0.009727699836056704, 0.09921790142647749, 0.0030279820357426135, 0.007233147674668432, 0.015037077585272333, 0.00676300248942824, 0.00846085745273434, 0.010454039807576027, 0.008290033931625458, 0.008047858389383713, 0.03619757497020835, 0.008932674973949967, 0.026364815964066948, 0.017068727227809468, 0.03642361450862052, 0.022596175765058086, 0.027189234614070214, 0.008709044088140922, 0.051085855041801576, 0.03571229488006288, 0.1464509789816999, 0.2034293939265307, 0.2544640602573704], 2.883180471525631)\n"
     ]
    }
   ],
   "source": [
    "# load porfolio data\n",
    "df = pd.read_csv('experiments/annualreturns.csv') \n",
    "R = pd.read_csv('experiments/modelreturns.csv')\n",
    "\n",
    "# set GA parameters\n",
    "populationSize = 50 #size of GA population\n",
    "generations = 10   #number of GA generations\n",
    "crossOverRate = 0.8  #crossover rate\n",
    "mutationRate = 0.2   #mutation rate\n",
    "elitismCount = 0   #number of parents to keep in each generation, 0 for no elitism\n",
    "frontierData = []\n",
    "\n",
    "print(\"Population Size:\", populationSize)\n",
    "print(\"Generations:\", generations)\n",
    "print(\"CrossOverRate:\", crossOverRate)\n",
    "print(\"MutationRate\", mutationRate)\n",
    "\n",
    "# set initial population\n",
    "population = initializePopulation()\n",
    "\n",
    "# GA main loop\n",
    "for j in range(generations): \n",
    "    print(\"Generation: \", j)\n",
    "        \n",
    "    # genetic algorithm\n",
    "    mates=tournamentSelection(population,3)\n",
    "    offspring = breeding(mates)\n",
    "    population = insert(population, offspring)\n",
    "    \n",
    "    # show generation statistics\n",
    "    maxVal,meanVal,varVal=summaryFitness(population)\n",
    "    print(\"Max: \", maxVal, \"Mean: \", meanVal, \"Variance\", varVal)  \n",
    "\n",
    "# show best solution\n",
    "bestSolutionInPopulation(population)"
   ]
  },
  {
   "cell_type": "code",
   "execution_count": 56,
   "metadata": {},
   "outputs": [
    {
     "data": {
      "image/png": "[encoded data removed]",
      "text/plain": [
       "<Figure size 1080x720 with 1 Axes>"
      ]
     },
     "metadata": {
      "needs_background": "light"
     },
     "output_type": "display_data"
    }
   ],
   "source": [
    "Portfolio = R.copy()\n",
    "Portfolio['Optimum'] = population[len(population)-1][0]\n",
    "labels = population[len(population)-1][0]\n",
    "\n",
    "fig = plt.figure(figsize=(15,10))\n",
    "\n",
    "objects = Portfolio['Symbol']\n",
    "y_pos = np.arange(len(objects))\n",
    "performance = Portfolio['Optimum']\n",
    "\n",
    "plt.bar(y_pos, performance, align='center', alpha=0.5)\n",
    "plt.xticks(y_pos, objects)\n",
    "plt.ylabel('Percent Portfolio')\n",
    "plt.title('Optimum Portfolio')\n",
    "\n",
    "total = 0\n",
    "for i, v in enumerate(labels):\n",
    "    plt.text(i-.4, 0.005, round(labels[i],2), fontsize=12, color='k')\n",
    "    total = total + round(labels[i],2)\n",
    "\n",
    "plt.show()"
   ]
  },
  {
   "cell_type": "code",
   "execution_count": 22,
   "metadata": {},
   "outputs": [
    {
     "data": {
      "image/png": "[encoded data removed]",
      "text/plain": [
       "<Figure size 1080x720 with 1 Axes>"
      ]
     },
     "metadata": {
      "needs_background": "light"
     },
     "output_type": "display_data"
    }
   ],
   "source": [
    "frontier_df = pd.DataFrame(frontierData,columns=['Return','Sigma','Sharpe'])\n",
    "fig = plt.figure(figsize=(15,10))\n",
    "x = frontier_df['Sigma'].values\n",
    "y = frontier_df['Return'].values\n",
    "optimum_x = frontier_df[frontier_df['Sharpe'] == Best[1]]['Sigma']\n",
    "optimum_y = frontier_df[frontier_df['Sharpe'] == Best[1]]['Return']\n",
    "plt.ylim(0, 40)\n",
    "plt.xlim(0, 100)\n",
    "plt.title('Efficient Frontier', fontsize=18)\n",
    "plt.xlabel('Standard Deviation', fontsize=18)\n",
    "plt.ylabel('Return (%)', fontsize=18)\n",
    "plt.scatter(x, y, alpha=0.5)\n",
    "plt.plot(optimum_x, optimum_y, color='r', marker=\".\", markersize=20)\n",
    "plt.show()"
   ]
  }
 ],
 "metadata": {
  "kernelspec": {
   "display_name": "Python 3",
   "language": "python",
   "name": "python3"
  },
  "language_info": {
   "codemirror_mode": {
    "name": "ipython",
    "version": 3
   },
   "file_extension": ".py",
   "mimetype": "text/x-python",
   "name": "python",
   "nbconvert_exporter": "python",
   "pygments_lexer": "ipython3",
   "version": "3.8.2"
  }
 },
 "nbformat": 4,
 "nbformat_minor": 4
}
